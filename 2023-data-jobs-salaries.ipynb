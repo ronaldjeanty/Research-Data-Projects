{
 "cells": [
  {
   "cell_type": "code",
   "execution_count": 1,
   "id": "52fdaaa0",
   "metadata": {
    "execution": {
     "iopub.execute_input": "2024-02-19T03:23:19.469353Z",
     "iopub.status.busy": "2024-02-19T03:23:19.468580Z",
     "iopub.status.idle": "2024-02-19T03:23:20.562650Z",
     "shell.execute_reply": "2024-02-19T03:23:20.561062Z"
    },
    "papermill": {
     "duration": 1.101241,
     "end_time": "2024-02-19T03:23:20.565952",
     "exception": false,
     "start_time": "2024-02-19T03:23:19.464711",
     "status": "completed"
    },
    "tags": []
   },
   "outputs": [
    {
     "name": "stdout",
     "output_type": "stream",
     "text": [
      "/kaggle/input/jobs-in-data/jobs_in_data.csv\n",
      "Top 5 job salaries by job title:\n",
      "                          job_title         salary\n",
      "68           Data Science Tech Lead  375000.000000\n",
      "8     Analytics Engineering Manager  325000.000000\n",
      "107  Managing Director Data Science  300000.000000\n",
      "87         Head of Machine Learning  259000.000000\n",
      "6                AWS Data Architect  258000.000000\n",
      "28             Cloud Data Architect  250000.000000\n",
      "0                      AI Architect  249000.000000\n",
      "80         Director of Data Science  216846.206897\n",
      "\n",
      "Top 5 job salaries by job category:\n",
      "                     job_category         salary\n",
      "9         Machine Learning and AI  179338.905462\n",
      "7       Data Science and Research  163401.934970\n",
      "3  Data Architecture and Modeling  155343.891892\n",
      "1              Cloud and Database  155000.000000\n",
      "4                Data Engineering  145588.369469\n",
      "8       Leadership and Management  144164.409543\n",
      "0            BI and Visualization  135935.840256\n",
      "2                   Data Analysis  107801.471517\n",
      "\n",
      "Five countries with the highest paying jobs:\n",
      "   employee_residence         salary\n",
      "61              Qatar  300000.000000\n",
      "21            Denmark  200000.000000\n",
      "47           Malaysia  200000.000000\n",
      "60        Puerto Rico  166000.000000\n",
      "80      United States  158586.128741\n",
      "5           Australia  156690.476190\n",
      "75             Turkey  155000.000000\n",
      "12             Canada  149647.245536\n"
     ]
    }
   ],
   "source": [
    "import pandas as pd\n",
    "import numpy as np\n",
    "\n",
    "import os\n",
    "for dirname, _, filenames in os.walk('/kaggle/input'):\n",
    "    for filename in filenames:\n",
    "        print(os.path.join(dirname, filename))\n",
    "        \n",
    "# Load the CSV file into a DataFrame\n",
    "df = pd.read_csv('/kaggle/input/jobs-in-data/jobs_in_data.csv')\n",
    "\n",
    "# Clean the data (perform any necessary data cleaning steps)\n",
    "\n",
    "# Extract relevant information (job title, job category, salary, country)\n",
    "relevant_columns = ['job_title', 'job_category', 'salary', 'employee_residence']\n",
    "df = df[relevant_columns]\n",
    "\n",
    "# Group the data by job title and job category, calculate average salary\n",
    "average_salary_by_title = df.groupby('job_title')['salary'].mean().reset_index()\n",
    "average_salary_by_category = df.groupby('job_category')['salary'].mean().reset_index()\n",
    "\n",
    "# Find the top 5 job salaries by job title and job category\n",
    "top_5_salaries_by_title = average_salary_by_title.nlargest(8, 'salary')\n",
    "top_5_salaries_by_category = average_salary_by_category.nlargest(8, 'salary')\n",
    "\n",
    "# Find the five countries with the highest paying jobs\n",
    "average_salary_by_country = df.groupby('employee_residence')['salary'].mean().reset_index()\n",
    "top_5_countries = average_salary_by_country.nlargest(8, 'salary')\n",
    "\n",
    "# Print or display the results\n",
    "print(\"Top 5 job salaries by job title:\")\n",
    "print(top_5_salaries_by_title)\n",
    "print(\"\\nTop 5 job salaries by job category:\")\n",
    "print(top_5_salaries_by_category)\n",
    "print(\"\\nFive countries with the highest paying jobs:\")\n",
    "print(top_5_countries)"
   ]
  }
 ],
 "metadata": {
  "kaggle": {
   "accelerator": "none",
   "dataSources": [
    {
     "datasetId": 4213326,
     "sourceId": 7279972,
     "sourceType": "datasetVersion"
    }
   ],
   "dockerImageVersionId": 30646,
   "isGpuEnabled": false,
   "isInternetEnabled": false,
   "language": "python",
   "sourceType": "notebook"
  },
  "kernelspec": {
   "display_name": "Python 3",
   "language": "python",
   "name": "python3"
  },
  "language_info": {
   "codemirror_mode": {
    "name": "ipython",
    "version": 3
   },
   "file_extension": ".py",
   "mimetype": "text/x-python",
   "name": "python",
   "nbconvert_exporter": "python",
   "pygments_lexer": "ipython3",
   "version": "3.10.13"
  },
  "papermill": {
   "default_parameters": {},
   "duration": 4.502149,
   "end_time": "2024-02-19T03:23:21.090541",
   "environment_variables": {},
   "exception": null,
   "input_path": "__notebook__.ipynb",
   "output_path": "__notebook__.ipynb",
   "parameters": {},
   "start_time": "2024-02-19T03:23:16.588392",
   "version": "2.5.0"
  }
 },
 "nbformat": 4,
 "nbformat_minor": 5
}
